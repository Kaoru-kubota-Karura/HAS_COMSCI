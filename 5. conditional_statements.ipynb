{
  "nbformat": 4,
  "nbformat_minor": 0,
  "metadata": {
    "colab": {
      "provenance": []
    },
    "kernelspec": {
      "name": "python3",
      "display_name": "Python 3"
    },
    "language_info": {
      "name": "python"
    }
  },
  "cells": [
    {
      "cell_type": "markdown",
      "source": [
        "### **Introduction to Conditional Statements**\n",
        "\n",
        "Conditional statements allow a program to evaluate specific conditions and make decisions based on those conditions. They introduce the concept of branching, where a program can follow different paths of execution based on certain criteria.\n",
        "\n",
        "---\n",
        "\n",
        "### **Understanding if, elif, and else Statements**\n",
        "\n",
        "**1. `if` Statement:**\n",
        "- The most basic type of conditional statement.\n",
        "- Evaluates a condition, and if it's `True`, the code inside the `if` block is executed.\n",
        "\n",
        "  **Example:**\n",
        "  ```python\n",
        "  age = 20\n",
        "  if age >= 18:\n",
        "      print(\"You are an adult!\")\n",
        "  ```\n",
        "\n",
        "**2. `elif` Statement:**\n",
        "- Short for \"else if\".\n",
        "- Used to check multiple conditions after the initial `if` condition.\n",
        "- The `elif` block is executed if its condition is `True`.\n",
        "\n",
        "  **Example:**\n",
        "  ```python\n",
        "  score = 85\n",
        "  if score >= 90:\n",
        "      grade = \"A\"\n",
        "  elif score >= 80:\n",
        "      grade = \"B\"\n",
        "  ```\n",
        "\n",
        "**3. `else` Statement:**\n",
        "- Catches anything which isn't caught by the preceding conditions.\n",
        "- Does not have a condition attached to it.\n",
        "\n",
        "  **Example:**\n",
        "  ```python\n",
        "  age = 15\n",
        "  if age >= 18:\n",
        "      print(\"You are an adult!\")\n",
        "  else:\n",
        "      print(\"You are a minor!\")\n",
        "  ```\n",
        "\n",
        "---\n",
        "\n",
        "### **Writing Conditions Using Comparison Operators**\n",
        "\n",
        "**1. `==`:** Checks if two values are equal.\n",
        "  - **Example:** `x == y`\n",
        "\n",
        "**2. `!=`:** Checks if two values are not equal.\n",
        "  - **Example:** `x != y`\n",
        "\n",
        "**3. `>`:** Checks if the value on the left is greater than the one on the right.\n",
        "  - **Example:** `x > y`\n",
        "\n",
        "**4. `<`:** Checks if the value on the left is less than the one on the right.\n",
        "  - **Example:** `x < y`\n",
        "\n",
        "**5. `>=`:** Checks if the value on the left is greater than or equal to the one on the right.\n",
        "  - **Example:** `x >= y`\n",
        "\n",
        "**6. `<=`:** Checks if the value on the left is less than or equal to the one on the right.\n",
        "  - **Example:** `x <= y`\n",
        "\n",
        "---\n"
      ],
      "metadata": {
        "id": "CjxdWcqxPhy0"
      }
    },
    {
      "cell_type": "markdown",
      "source": [
        "\n",
        "### **Practice Exercises:**\n",
        "\n",
        "1. **Weekday or Weekend:**\n",
        "    - Ask the user to input a day of the week (e.g., Monday, Tuesday, etc.).\n",
        "    - Inform them if the day is a weekday or a weekend.\n",
        "\n"
      ],
      "metadata": {
        "id": "Jim4Rsi7Pn0G"
      }
    },
    {
      "cell_type": "code",
      "source": [
        "d = input (\"Type the day from choose from Sunday, Monday, Tuesday, Wednesday, Thursday, Friday, and Saturday>>> \")\n",
        "\n",
        "d = d.title()\n",
        "\n",
        "if d == \"Sunday\":\n",
        "    print(\"It's Weekend\")\n",
        "elif d == \"Saturday\":\n",
        "    print(\"It's Weekend\")\n",
        "elif d == \"Monday\":\n",
        "    print(\"It's Weekday\")\n",
        "elif d == \"Tuesday\":\n",
        "    print(\"It's Weekday\")\n",
        "elif d == \"Wednesday\":\n",
        "    print(\"It's Weekday\")\n",
        "elif d == \"Thursday\":\n",
        "    print(\"It's Weekday\")\n",
        "elif d == \"Friday\":\n",
        "    print(\"It's Weekday\")\n",
        "else:\n",
        "    print(\"Unexpected error has occurred. Please try again. \")"
      ],
      "metadata": {
        "id": "TkrdpDJXRKeJ",
        "colab": {
          "base_uri": "https://localhost:8080/"
        },
        "outputId": "a625f81e-ab1b-474a-f92a-f1efc91e0ea5"
      },
      "execution_count": null,
      "outputs": [
        {
          "output_type": "stream",
          "name": "stdout",
          "text": [
            "Type the day from choose from Sunday, Monday, Tuesday, Wednesday, Thursday, Friday, and Saturday>>> Sunday\n",
            "It's Weekend\n"
          ]
        }
      ]
    },
    {
      "cell_type": "markdown",
      "source": [
        "2. **Password Strength Checker:**\n",
        "    - Ask the user to input a password.\n",
        "    - Check if the password has at least 8 characters, starts with an uppercase letter, and ends with a number. Provide feedback on its strength.\n"
      ],
      "metadata": {
        "id": "1JPiLpsURKzz"
      }
    },
    {
      "cell_type": "code",
      "source": [
        "print(\"This is password checker.\")\n",
        "pas = input(\"Type the password>>>\")\n",
        "\n",
        "pas_f = pas[0]\n",
        "print(\"The first letter starts from uppercase:\", pas_f.isupper())\n",
        "\n",
        "pas_le = len(pas)\n",
        "if pas_le > 7:\n",
        "  print(\"Password at least 8 characters: True\")\n",
        "else:\n",
        "  print (\"Password at least 8 characters: False\")\n",
        "\n",
        "pas_l = pas[-1]\n",
        "if pas_l.isdigit():\n",
        "\tprint(\"Password end with a number: True\")\n",
        "else:\n",
        "\tprint(\"Password end with a number: False\")\n"
      ],
      "metadata": {
        "id": "sHB4UhrHRMy5",
        "colab": {
          "base_uri": "https://localhost:8080/"
        },
        "outputId": "323aa440-2d77-4557-f1f5-37244daa0b35"
      },
      "execution_count": null,
      "outputs": [
        {
          "output_type": "stream",
          "name": "stdout",
          "text": [
            "This is password checker.\n",
            "Type the password>>>Password1\n",
            "The first letter starts from uppercase: True\n",
            "Password at least 8 characters: True\n",
            "Password end with a number: True\n"
          ]
        }
      ]
    },
    {
      "cell_type": "markdown",
      "source": [
        "3. **Movie Ticket Pricing:**\n",
        "    - Movie theaters often have different pricing depending on age groups.\n",
        "    - Children under 12: $5, Teens (12-17): $7, Adults (18-59): $10, Seniors (60+): $6.\n",
        "    - Ask the user for their age and tell them the cost of a movie ticket.\n"
      ],
      "metadata": {
        "id": "QABbfxrVRNfo"
      }
    },
    {
      "cell_type": "code",
      "source": [
        "a = 5\n",
        "b = 7\n",
        "c = 6\n",
        "\n",
        "ag = input (\"Please tell me the your group age>>> \")\n",
        "gr = input (\"Please tell me the your group's number of people>>> \")\n",
        "\n",
        "ag = int(ag)\n",
        "gr = int(gr)\n",
        "\n",
        "if ag < 12:\n",
        "  print(\"The cost is free\")\n",
        "elif ag < 18:\n",
        "  print (\"The cost is\", a*gr)\n",
        "elif ag < 60:\n",
        "  print (\"The cost is\", b*gr)\n",
        "elif ag > 59:\n",
        "  print (\"The cost is\", c*gr)\n",
        "else:\n",
        "  print(\"Unexpected error has occored. Please try again. \")"
      ],
      "metadata": {
        "id": "-i4B1AYyRPGp",
        "colab": {
          "base_uri": "https://localhost:8080/"
        },
        "outputId": "49cb5cb5-3258-486a-ac3a-73eab287e2e8"
      },
      "execution_count": 1,
      "outputs": [
        {
          "output_type": "stream",
          "name": "stdout",
          "text": [
            "Please tell me the your group age>>> 100000000000000\n",
            "Please tell me the your group's number of people>>> 1000000000000000\n",
            "The cost is 6000000000000000\n"
          ]
        }
      ]
    },
    {
      "cell_type": "markdown",
      "source": [
        "4. **Tax Calculator:**\n",
        "    - Depending on the amount of income, people are taxed at different rates.\n",
        "    - Income up to $10,000: No tax, Income $10,001-$50,000: 10% tax, Income $50,001 and above: 20% tax.\n",
        "    - Ask the user for their income and calculate the tax they owe.\n",
        "\n"
      ],
      "metadata": {
        "id": "4RMhCDsXRPTO"
      }
    },
    {
      "cell_type": "code",
      "source": [
        "print(\"This is tax calculator\")\n",
        "\n",
        "a = input (\"What is your income?>>>\")\n",
        "\n",
        "a = int(a)\n",
        "\n",
        "if a < 10001:\n",
        "  print(\"You have no tax. Your income is NTD\", a)\n",
        "\n",
        "elif a < 50001:\n",
        "  print(\"You hace 10 % tax. Your income is NTD\", a*0.9)\n",
        "\n",
        "elif a > 49999:\n",
        "  print(\"You have 20 % tax. Your income is NTD\", a*0.8)\n",
        "else:\n",
        "  print(\"Unexpected error has occurred. Please do it again.\")"
      ],
      "metadata": {
        "id": "ijEDRr8FRSm0",
        "colab": {
          "base_uri": "https://localhost:8080/"
        },
        "outputId": "973505c7-18ce-4b29-9406-5dc0118fdc1d"
      },
      "execution_count": 3,
      "outputs": [
        {
          "output_type": "stream",
          "name": "stdout",
          "text": [
            "This is tax calculator\n",
            "What is your income?>>>10000000000000000\n",
            "You have 20 % tax. Your income is NTD 8000000000000000.0\n"
          ]
        }
      ]
    },
    {
      "cell_type": "markdown",
      "source": [
        "5. **Discount Eligibility:**\n",
        "    - A store offers a discount to students and senior citizens.\n",
        "    - Ask the user if they are a student or a senior citizen (yes or no for each). If they answer \"yes\" to either, inform them they are eligible for a discount.\n",
        "\n"
      ],
      "metadata": {
        "id": "qonCcp_PRTDL"
      }
    },
    {
      "cell_type": "code",
      "source": [
        "a = input (\"Are you students? Type Yes or No>>> \")\n",
        "s = input (\"Are you senior? Type Yes or No>>> \")\n",
        "\n",
        "a = a.title()\n",
        "s = s.title()\n",
        "\n",
        "if a == \"Yes\":\n",
        "  print(\"You get the discount\")\n",
        "elif s == \"Yes\":\n",
        "  print (\"You get the discount\")\n",
        "elif a == \"No\":\n",
        "  print (\"You cannot get the discount\")\n",
        "elif s == \"No\":\n",
        "  print (\"You cannot get the discount\")\n",
        "else:\n",
        "  print(\"Unexpected error has occurred. Please do it again.\")\n"
      ],
      "metadata": {
        "id": "5YBnUfs-RUku",
        "colab": {
          "base_uri": "https://localhost:8080/"
        },
        "outputId": "ec89ac90-0b62-4af5-a27a-b9c0b34a06f2"
      },
      "execution_count": 2,
      "outputs": [
        {
          "output_type": "stream",
          "name": "stdout",
          "text": [
            "Are you students? Type Yes or No>>> nO\n",
            "Are you senior? Type Yes or No>>> yEs\n",
            "You get the discount\n"
          ]
        }
      ]
    },
    {
      "cell_type": "markdown",
      "source": [],
      "metadata": {
        "id": "Ad9IXhTNcPzZ"
      }
    },
    {
      "cell_type": "markdown",
      "source": [
        "6. **Shipping Cost Calculator:**\n",
        "    - Shipping costs vary based on the weight of a package.\n",
        "    - Weight up to 1kg: $5, Weight 1.1kg-5kg: $10, Weight above 5kg: $20.\n",
        "    - Ask the user for the weight of their package and tell them the shipping cost.\n",
        "\n"
      ],
      "metadata": {
        "id": "vSf3pJOFRVGk"
      }
    },
    {
      "cell_type": "code",
      "source": [
        "print(\"This si the 6. Shipping Cost Calculator\")\n",
        "w = input (\"Type the weight of the package in kg>>>\")\n",
        "\n",
        "w=int(w)\n",
        "\n",
        "if w<=1:\n",
        "  print(\"The cost is $5\")\n",
        "elif w<=5:\n",
        "  print(\"The cost is $10\")\n",
        "elif w>5:\n",
        "  print(\"The cost is $20\")\n",
        "else:\n",
        "  print(\"Unexpected error has occurred. Please do it again.\")"
      ],
      "metadata": {
        "id": "1roU2zvFRWbR",
        "colab": {
          "base_uri": "https://localhost:8080/"
        },
        "outputId": "d2f62389-3d5f-4cef-c998-5ab1a4bb7c91"
      },
      "execution_count": 7,
      "outputs": [
        {
          "output_type": "stream",
          "name": "stdout",
          "text": [
            "This si the 6. Shipping Cost Calculator\n",
            "Type the weight of the package in kg>>>1\n",
            "The cost is $5\n"
          ]
        }
      ]
    },
    {
      "cell_type": "markdown",
      "source": [
        "7. **Drink Selector:**\n",
        "    - Ask the user for their age.\n",
        "    - If they are under 18, suggest a non-alcoholic drink (like juice or soda). If they are 18 and above, suggest an alcoholic beverage (like wine or beer)."
      ],
      "metadata": {
        "id": "WXtyKwyYRWzS"
      }
    },
    {
      "cell_type": "code",
      "source": [
        "print(\"This is Drink Selector\")\n",
        "a = input(\"Type your age>>>\")\n",
        "\n",
        "a = int(a)\n",
        "\n",
        "if a<18:\n",
        "  print(\"I suggest non-alcoholic drink (like juice or soda)\")\n",
        "\n",
        "elif a>=18:\n",
        "  print(\"I suggest an alcoholic beverage (like wine or beer)\")\n",
        "else:\n",
        "  print(\"Unexpected error has occurred. Please do it again.\")"
      ],
      "metadata": {
        "id": "iG4YUGa5RXeM",
        "colab": {
          "base_uri": "https://localhost:8080/"
        },
        "outputId": "e499267d-fd9e-4812-fa57-3dc508294ec4"
      },
      "execution_count": 9,
      "outputs": [
        {
          "output_type": "stream",
          "name": "stdout",
          "text": [
            "This is Drink Selector\n",
            "Type your age>>>1\n",
            "I suggest non-alcoholic drink (like juice or soda)\n"
          ]
        }
      ]
    }
  ]
}