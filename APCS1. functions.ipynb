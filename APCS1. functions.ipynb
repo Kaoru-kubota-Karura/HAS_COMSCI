{
  "nbformat": 4,
  "nbformat_minor": 0,
  "metadata": {
    "colab": {
      "provenance": []
    },
    "kernelspec": {
      "name": "python3",
      "display_name": "Python 3"
    },
    "language_info": {
      "name": "python"
    }
  },
  "cells": [
    {
      "cell_type": "markdown",
      "source": [
        "### **Introduction to Functions**\n",
        "\n",
        "In programming, a function is a self-contained block of code that encapsulates a specific task or related group of tasks. Functions are essential for breaking down complex tasks into smaller, more manageable parts.\n",
        "\n",
        "Advantages of using functions:\n",
        "- **Modularity:** Break down complex tasks into smaller, reusable chunks.\n",
        "- **Reusability:** Write once, use multiple times.\n",
        "- **Maintainability:** Easier to fix issues in one centralized location.\n",
        "- **Abstraction:** Hide complex implementation details, presenting a simple interface.\n",
        "\n",
        "---\n",
        "\n",
        "### **Defining and Calling Functions**\n",
        "\n",
        "**1. Defining a Function:**\n",
        "\n",
        "Use the `def` keyword followed by a function name, parentheses, and a colon. The code block within every function is indented.\n",
        "\n",
        "```python\n",
        "def greet():\n",
        "    print(\"Hello, World!\")\n",
        "```\n",
        "\n",
        "**2. Calling a Function:**\n",
        "\n",
        "To execute the function's code, use the function name followed by parentheses.\n",
        "\n",
        "```python\n",
        "greet()  # This will print \"Hello, World!\"\n",
        "```\n",
        "\n",
        "---\n",
        "\n",
        "### **Parameters and Return Values**\n",
        "\n",
        "**1. Parameters:**\n",
        "\n",
        "Functions can take inputs, known as parameters, to process and potentially use in its task.\n",
        "\n",
        "```python\n",
        "def greet(name):\n",
        "    print(f\"Hello, {name}!\")\n",
        "```\n",
        "\n",
        "**2. Return Values:**\n",
        "\n",
        "Functions can also return results to the caller using the `return` keyword. If no return statement is provided, the function will return `None` by default.\n",
        "\n",
        "```python\n",
        "def add(a, b):\n",
        "    return a + b\n",
        "```\n",
        "\n",
        "---"
      ],
      "metadata": {
        "id": "9G7BXlQXQQ9X"
      }
    },
    {
      "cell_type": "markdown",
      "source": [
        "### **Practice Exercises:**\n",
        "\n",
        "1. **Hello Name:**\n",
        "   - Define a function that takes a name as a parameter and prints \"Hello, [Name]!\".\n",
        "   \n"
      ],
      "metadata": {
        "id": "tBNd71f_yRYF"
      }
    },
    {
      "cell_type": "code",
      "source": [
        "#ex1\n",
        "\n",
        "name = input(\"Type the name>>> \")\n",
        "\n",
        "def greet():\n",
        "    print(f\"Hello, {name}!\")\n",
        "\n",
        "greet()"
      ],
      "metadata": {
        "id": "8lYZuO2CyUqd",
        "colab": {
          "base_uri": "https://localhost:8080/"
        },
        "outputId": "5750f632-d424-40d6-bece-69dee6e33e58"
      },
      "execution_count": null,
      "outputs": [
        {
          "output_type": "stream",
          "name": "stdout",
          "text": [
            "Type the name>>> abc\n",
            "Hello, abc!\n"
          ]
        }
      ]
    },
    {
      "cell_type": "markdown",
      "source": [
        "2. **Area of a Circle:**\n",
        "   - Define a function that calculates the area of a circle given its radius.\n",
        "\n"
      ],
      "metadata": {
        "id": "c58v6-epyVNf"
      }
    },
    {
      "cell_type": "code",
      "source": [
        "#ex2\n",
        "r = input(\"What is the radius of the circle?>>> \")\n",
        "r = int(r)\n",
        "\n",
        "def a():\n",
        "  print(f\"The area of the circle is\", r*r*3.14)\n",
        "\n",
        "a()"
      ],
      "metadata": {
        "id": "DHoK_BaVyfgL",
        "colab": {
          "base_uri": "https://localhost:8080/"
        },
        "outputId": "016d20ad-600c-4fb5-d059-c748a26c7f51"
      },
      "execution_count": null,
      "outputs": [
        {
          "output_type": "stream",
          "name": "stdout",
          "text": [
            "What is the radius of the circle?>>> 5\n",
            "The area of the circle is 78.5\n"
          ]
        }
      ]
    },
    {
      "cell_type": "markdown",
      "source": [
        "3. **String Reverser:**\n",
        "   - Write a function that returns the reverse of a given string.\n",
        "\n"
      ],
      "metadata": {
        "id": "wUDhG3X5yiJW"
      }
    },
    {
      "cell_type": "code",
      "source": [
        "#ex3\n",
        "txt = input(\"Type some text>>> \")\n",
        "\n",
        "def r_s():\n",
        "  txt_ = txt[::-1]\n",
        "  print(txt_)\n",
        "\n",
        "r_s()"
      ],
      "metadata": {
        "id": "f7I9hlbSykBG",
        "colab": {
          "base_uri": "https://localhost:8080/"
        },
        "outputId": "0c3c5b37-0e32-4f88-c70a-e3790868f18e"
      },
      "execution_count": null,
      "outputs": [
        {
          "output_type": "stream",
          "name": "stdout",
          "text": [
            "Type some text>>> abcdefg\n",
            "gfedcba\n"
          ]
        }
      ]
    },
    {
      "cell_type": "markdown",
      "source": [
        "4. **List Multiplier:**\n",
        "   - Write a function that takes a list and a number as parameters. The function should return a new list where each element is multiplied by the number.\n",
        "\n"
      ],
      "metadata": {
        "id": "Z7trQ7wCyluv"
      }
    },
    {
      "cell_type": "code",
      "source": [
        "#ex4\n",
        "def a():\n",
        "  r = input(\"Give me list. as like 1,2,3,4>>> \")\n",
        "  n = input(\"What number will multiply?>>> \")\n",
        "  n = int(n)\n",
        "  r = r.replace(\",\", \" \")\n",
        "  r = r.split()\n",
        "  r_int = []\n",
        "  for data in r :\n",
        "      r_int.append(int(data))\n",
        "  numbers = []\n",
        "\n",
        "  for i in r_int:\n",
        "      numbers.append(i * n)\n",
        "\n",
        "  print(numbers)\n",
        "\n",
        "a()"
      ],
      "metadata": {
        "id": "QcK55imVynU8",
        "colab": {
          "base_uri": "https://localhost:8080/"
        },
        "outputId": "0ea536d3-935e-40a3-be43-9fd6cdc0d00f"
      },
      "execution_count": 10,
      "outputs": [
        {
          "output_type": "stream",
          "name": "stdout",
          "text": [
            "Give me list. as like 1,2,3,4>>> 1,2,3,4\n",
            "What number will multiply?>>> 5\n",
            "[5, 10, 15, 20]\n"
          ]
        }
      ]
    },
    {
      "cell_type": "markdown",
      "source": [
        "5. **Prime Checker:**\n",
        "   - Create a function that checks if a number is prime. If prime, it should return `True`, otherwise `False`.\n",
        "\n"
      ],
      "metadata": {
        "id": "cIZyRI10yogs"
      }
    },
    {
      "cell_type": "code",
      "source": [
        "#ex5\n",
        "def a():\n",
        "  n = int(input(\"Type some number>>> \"))\n",
        "  a = 0\n",
        "  for b in range(1, n+1):\n",
        "    if n % b == 0:\n",
        "      a = a+1\n",
        "  if a > 2:\n",
        "    print(\"False\")\n",
        "  else:\n",
        "    print(\"True\")\n",
        "\n",
        "a()"
      ],
      "metadata": {
        "id": "6bs6XxzSyprq",
        "colab": {
          "base_uri": "https://localhost:8080/"
        },
        "outputId": "6662526e-1d69-4ed2-ac1d-ced1a4943b10"
      },
      "execution_count": 15,
      "outputs": [
        {
          "output_type": "stream",
          "name": "stdout",
          "text": [
            "Type some number>>> 11\n",
            "True\n"
          ]
        }
      ]
    },
    {
      "cell_type": "markdown",
      "source": [
        "6. **Factorial Calculator:**\n",
        "   - Write a function that calculates the factorial of a number.\n",
        "\n"
      ],
      "metadata": {
        "id": "-g_xki8tyrjp"
      }
    },
    {
      "cell_type": "code",
      "source": [
        "#ex6\n",
        "def a():\n",
        "  a = int(input(\"Type some number>>> \"))\n",
        "  b = 1\n",
        "  for i in range(a, 1, -1):\n",
        "      b *= i\n",
        "  print(b)\n",
        "\n",
        "a()"
      ],
      "metadata": {
        "id": "y3dO2HWdyswx",
        "colab": {
          "base_uri": "https://localhost:8080/"
        },
        "outputId": "cae2ff5b-ee86-4957-b4ff-d1926037deed"
      },
      "execution_count": 17,
      "outputs": [
        {
          "output_type": "stream",
          "name": "stdout",
          "text": [
            "Type some number>>> 5\n",
            "120\n"
          ]
        }
      ]
    },
    {
      "cell_type": "markdown",
      "source": [
        "7. **Age in Dog Years:**\n",
        "   - Define a function that converts human years to dog years (1 human year = 7 dog years).\n",
        "\n"
      ],
      "metadata": {
        "id": "6XrVk9wzywM2"
      }
    },
    {
      "cell_type": "code",
      "source": [
        "#ex7\n",
        "def a():\n",
        "  h = int(input(\"Type some number>>> \"))\n",
        "  d = h * 7\n",
        "  print(h, \"human year =\", d, \"dog years\")\n",
        "\n",
        "a()"
      ],
      "metadata": {
        "id": "Uplmvk7Syxno",
        "colab": {
          "base_uri": "https://localhost:8080/"
        },
        "outputId": "47850cf5-2469-4e6f-e5d0-938796482714"
      },
      "execution_count": 18,
      "outputs": [
        {
          "output_type": "stream",
          "name": "stdout",
          "text": [
            "Type some number>>> 5\n",
            "5 human year = 35 dog years\n"
          ]
        }
      ]
    },
    {
      "cell_type": "markdown",
      "source": [
        "8. **Temperature Converter:**\n",
        "   - Create a function that converts Celsius to Fahrenheit.\n",
        "\n"
      ],
      "metadata": {
        "id": "yzhpfw4Syzdc"
      }
    },
    {
      "cell_type": "code",
      "source": [
        "#ex8\n",
        "def a():\n",
        "  c = int(input(\"Type the  temp. in Celsius>>> \"))\n",
        "  f = c*9/5\n",
        "  f = f+32\n",
        "  print(f)\n",
        "\n",
        "a()"
      ],
      "metadata": {
        "id": "v-7DVKBWy0yK",
        "colab": {
          "base_uri": "https://localhost:8080/"
        },
        "outputId": "ecf7d920-e42b-40f3-935c-cd2831a89dd1"
      },
      "execution_count": 21,
      "outputs": [
        {
          "output_type": "stream",
          "name": "stdout",
          "text": [
            "Type the  temp. in Celsius>>> 20\n",
            "68.0\n"
          ]
        }
      ]
    },
    {
      "cell_type": "markdown",
      "source": [
        "9. **String Repeater:**\n",
        "   - Define a function that takes a string and a number, then returns the string repeated that number of times.\n",
        "\n"
      ],
      "metadata": {
        "id": "kQlt7ezky1_Z"
      }
    },
    {
      "cell_type": "code",
      "source": [
        "#ex9\n",
        "def a():\n",
        "  t = input(\"Type the text>>> \")\n",
        "  a = int(input(\"How many times show?>>> \"))\n",
        "  while a > 0:\n",
        "    print(t)\n",
        "    a = a-1\n",
        "\n",
        "a()"
      ],
      "metadata": {
        "id": "n23sdrE8y3an",
        "colab": {
          "base_uri": "https://localhost:8080/"
        },
        "outputId": "4740be0c-00ee-425e-a2c0-ad0dac270c78"
      },
      "execution_count": 22,
      "outputs": [
        {
          "output_type": "stream",
          "name": "stdout",
          "text": [
            "Type the text>>> abc\n",
            "How many times show?>>> 5\n",
            "abc\n",
            "abc\n",
            "abc\n",
            "abc\n",
            "abc\n"
          ]
        }
      ]
    },
    {
      "cell_type": "markdown",
      "source": [
        "10. **List Average:**\n",
        "   - Write a function that calculates the average of a list of numbers.\n"
      ],
      "metadata": {
        "id": "PrcszXAay4e0"
      }
    },
    {
      "cell_type": "code",
      "source": [
        "#ex10\n",
        "def a():\n",
        "  a = input(\"Give me list. as like 1,2,3,4>>> \")\n",
        "  a = a.replace(\",\", \" \")\n",
        "  a = a.split()\n",
        "  a_int = []\n",
        "  for data in a :\n",
        "      a_int.append(int(data))\n",
        "  numbers = []\n",
        "  avg = sum(a_int) / len(a_int)\n",
        "  print(\"The average of the list is\", avg)\n",
        "\n",
        "a()"
      ],
      "metadata": {
        "id": "LSG5y_X-y54t",
        "colab": {
          "base_uri": "https://localhost:8080/"
        },
        "outputId": "bd767de4-4e31-498f-fbb1-0c8b4ee635a7"
      },
      "execution_count": 25,
      "outputs": [
        {
          "output_type": "stream",
          "name": "stdout",
          "text": [
            "Give me list. as like 1,2,3,4>>> 20,30,40,50\n",
            "The average of the list is 35.0\n"
          ]
        }
      ]
    }
  ]
}