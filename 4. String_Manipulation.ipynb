{
  "nbformat": 4,
  "nbformat_minor": 0,
  "metadata": {
    "colab": {
      "provenance": []
    },
    "kernelspec": {
      "name": "python3",
      "display_name": "Python 3"
    },
    "language_info": {
      "name": "python"
    }
  },
  "cells": [
    {
      "cell_type": "markdown",
      "source": [
        "### **String Manipulation: Concatenation and Repetition**\n",
        "\n",
        "**String Concatenation:**\n",
        "- **Definition:** Combining two or more strings end-to-end.\n",
        "- **Operator:** The `+` operator is used for string concatenation.\n",
        "- **Example:**\n",
        "  ```python\n",
        "  first_name = \"John\"\n",
        "  last_name = \"Doe\"\n",
        "  full_name = first_name + \" \" + last_name  # Results in \"John Doe\"\n",
        "  ```\n",
        "\n",
        "**String Repetition:**\n",
        "- **Definition:** Repeating a string multiple times.\n",
        "- **Operator:** The `*` operator is used for string repetition.\n",
        "- **Example:**\n",
        "  ```python\n",
        "  word = \"echo\"\n",
        "  repeated_word = word * 3  # Results in \"echoechoecho\"\n",
        "  ```"
      ],
      "metadata": {
        "id": "XP9wGbNUyyQw"
      }
    },
    {
      "cell_type": "markdown",
      "source": [
        "**Practice:**\n",
        "1. **Fruit Salad:** Ask the user for their two favorite fruits. Concatenate them to form a new fruit name.\n",
        "\n"
      ],
      "metadata": {
        "id": "1-CbJq8Ey6zA"
      }
    },
    {
      "cell_type": "code",
      "source": [
        "#Ex1\n",
        "fruit1 = input(\"what is you first favorite fruit name?>>>\")\n",
        "fruit2 = input(\"what is you second favotite fruit name?>>>\")\n",
        "\n",
        "print (fruit1+fruit2)"
      ],
      "metadata": {
        "id": "aamagxLxy-Yj",
        "colab": {
          "base_uri": "https://localhost:8080/"
        },
        "outputId": "274f5ecf-f1dc-4c0f-f8d2-a2fa0fc05c38"
      },
      "execution_count": null,
      "outputs": [
        {
          "output_type": "stream",
          "name": "stdout",
          "text": [
            "what is you first favorite fruit name?apple\n",
            "what is you second favotite fruit name?banana\n",
            "apple banana\n"
          ]
        }
      ]
    },
    {
      "cell_type": "markdown",
      "source": [
        "\n",
        "2. **Echo Chamber:** Ask the user for a word and a number. Repeat the word as many times as the number they've provided."
      ],
      "metadata": {
        "id": "sXAvgbTCzAs-"
      }
    },
    {
      "cell_type": "code",
      "source": [
        "#Ex2\n",
        "word = input(\"word>>>\")\n",
        "time = input(\"How many times?>>>\")\n",
        "\n",
        "time = int (time)\n",
        "\n",
        "while time > 0:\n",
        "  print (word)\n",
        "  time = time - 1"
      ],
      "metadata": {
        "id": "otlrxyquzCrb",
        "colab": {
          "base_uri": "https://localhost:8080/"
        },
        "outputId": "ec4cbbcd-16ec-427c-942b-905767f95ba7"
      },
      "execution_count": 3,
      "outputs": [
        {
          "output_type": "stream",
          "name": "stdout",
          "text": [
            "word>>>apple\n",
            "How many times?>>>3\n",
            "apple\n",
            "apple\n",
            "apple\n"
          ]
        }
      ]
    },
    {
      "cell_type": "markdown",
      "source": [
        "\n",
        "3. **Full Name Formatter:** Ask the user for their first name, middle name, and last name. Display their full name by concatenating these strings."
      ],
      "metadata": {
        "id": "LqkkcBxuzERf"
      }
    },
    {
      "cell_type": "code",
      "source": [
        "#Ex3\n",
        "first = input (\"What is first name?>>> \")\n",
        "middle = input (\"What is middle name?>>> \")\n",
        "last = input (\"What is family name?>>> \")\n",
        "\n",
        "print (first, middle, last)"
      ],
      "metadata": {
        "id": "pTtJKK9dzFRp",
        "colab": {
          "base_uri": "https://localhost:8080/"
        },
        "outputId": "9031ac7a-e747-45d1-d6e9-c1211b9f57c1"
      },
      "execution_count": 4,
      "outputs": [
        {
          "output_type": "stream",
          "name": "stdout",
          "text": [
            "What is first name?>>> Pablo\n",
            "What is middle name?>>> Diego José Francisco de Paula Juan Nepomuceno María de los Remedios Crispin Cripriano de la Santísima Trinidad Ruiz y\n",
            "What is family name?>>> Picasso\n",
            "Pablo Diego José Francisco de Paula Juan Nepomuceno María de los Remedios Crispin Cripriano de la Santísima Trinidad Ruiz y Picasso\n"
          ]
        }
      ]
    },
    {
      "cell_type": "markdown",
      "source": [
        "### **Basic String Methods**\n",
        "\n",
        "**String Methods:**\n",
        "- **Definition:** Built-in functions in Python that can be called on a string to perform specific operations.\n",
        "- **Common Methods:**\n",
        "  - `upper()`: Converts the string to uppercase.\n",
        "  - `lower()`: Converts the string to lowercase.\n",
        "  - `title()`: Converts the string to title case (first letter of each word is capitalized).\n",
        "  - `len()`: Returns the length of the string.\n",
        "\n",
        "**String Slicing and Indexing:**\n",
        "- **Indexing:** Accessing a single character in a string using its position. Python string indices start at 0.\n",
        "  ```python\n",
        "  word = \"python\"\n",
        "  first_letter = word[0]  # Results in \"p\"\n",
        "  ```\n",
        "- **Slicing:** Accessing a range of characters in a string.\n",
        "  ```python\n",
        "  word = \"python\"\n",
        "  slice_word = word[1:4]  # Results in \"yth\"\n",
        "  ```\n",
        "\n",
        "\n"
      ],
      "metadata": {
        "id": "PbFzoj9EzHCn"
      }
    },
    {
      "cell_type": "markdown",
      "source": [
        "**Practice:**\n",
        "1. **Name Formatter:**\n",
        "   - Ask the user for their full name.\n",
        "   - Display their name in uppercase, lowercase, and title case.\n",
        "   - Show the length of their name."
      ],
      "metadata": {
        "id": "PqvCHbWkzbcK"
      }
    },
    {
      "cell_type": "code",
      "source": [
        "#Ex1\n",
        "name = input(\"What is your full name?>>> \")\n",
        "\n",
        "u_name = name.upper()\n",
        "l_name = name.lower()\n",
        "t_name = name.title()\n",
        "\n",
        "print(u_name)\n",
        "print(l_name)\n",
        "print(t_name)"
      ],
      "metadata": {
        "id": "gyuRgCP-zZDV",
        "colab": {
          "base_uri": "https://localhost:8080/"
        },
        "outputId": "d8f3fb81-94a1-4290-fa69-2285d1039a1f"
      },
      "execution_count": 9,
      "outputs": [
        {
          "output_type": "stream",
          "name": "stdout",
          "text": [
            "What is your full name?>>> Pablo Diego José Francisco de Paula Juan Nepomuceno María de los Remedios Crispin Cripriano de la Santísima Trinidad Ruiz y Picasso\n",
            "PABLO DIEGO JOSÉ FRANCISCO DE PAULA JUAN NEPOMUCENO MARÍA DE LOS REMEDIOS CRISPIN CRIPRIANO DE LA SANTÍSIMA TRINIDAD RUIZ Y PICASSO\n",
            "pablo diego josé francisco de paula juan nepomuceno maría de los remedios crispin cripriano de la santísima trinidad ruiz y picasso\n",
            "Pablo Diego José Francisco De Paula Juan Nepomuceno María De Los Remedios Crispin Cripriano De La Santísima Trinidad Ruiz Y Picasso\n"
          ]
        }
      ]
    },
    {
      "cell_type": "markdown",
      "source": [
        "2. **Initials Extractor:**\n",
        "   - Ask the user for their first name and last name.\n",
        "   - Display their initials by extracting the first character from both names."
      ],
      "metadata": {
        "id": "m5XX1vRzzd-1"
      }
    },
    {
      "cell_type": "code",
      "source": [
        "#Ex2\n",
        "f = input(\"What is your first name?>>> \")\n",
        "l = input(\"What is your family name?>>> \")\n",
        "\n",
        "f_f = f[0]\n",
        "f_l = l[0]\n",
        "\n",
        "print(f_f,f_l)"
      ],
      "metadata": {
        "id": "0RegpgLazf1R",
        "colab": {
          "base_uri": "https://localhost:8080/"
        },
        "outputId": "5998b981-3d4b-47dd-8688-cb6cc8d4511f"
      },
      "execution_count": 12,
      "outputs": [
        {
          "output_type": "stream",
          "name": "stdout",
          "text": [
            "What is your first name?>>> Pablo\n",
            "What is your family name?>>> Picasso\n",
            "P P\n"
          ]
        }
      ]
    },
    {
      "cell_type": "markdown",
      "source": [
        "*CHALLENGE!!!\n",
        "This is a tough one that requires concepts we have not learnt in class yet!*\n",
        "3. **Secret Code:**\n",
        "   - Ask the user for a word.\n",
        "   - Display the word with every second letter in uppercase and the others in lowercase."
      ],
      "metadata": {
        "id": "moPvuFqJzhNz"
      }
    },
    {
      "cell_type": "code",
      "source": [
        "#Ex3\n",
        "w = input(\"Type some word>>> \")\n",
        "\n",
        "ws = w[1]\n",
        "\n",
        "uws = ws.upper()\n",
        "lws = ws.lower()\n",
        "\n",
        "print(uws)\n",
        "print(lws)"
      ],
      "metadata": {
        "id": "Hl77BxQxziQL",
        "colab": {
          "base_uri": "https://localhost:8080/"
        },
        "outputId": "54c1b64f-5fc2-419f-ac6f-083fb892b0a4"
      },
      "execution_count": 16,
      "outputs": [
        {
          "output_type": "stream",
          "name": "stdout",
          "text": [
            "Type some word>>> Picasso\n",
            "I\n",
            "i\n"
          ]
        }
      ]
    }
  ]
}
