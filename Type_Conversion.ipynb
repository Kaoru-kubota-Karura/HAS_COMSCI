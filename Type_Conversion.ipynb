{
  "nbformat": 4,
  "nbformat_minor": 0,
  "metadata": {
    "colab": {
      "provenance": []
    },
    "kernelspec": {
      "name": "python3",
      "display_name": "Python 3"
    },
    "language_info": {
      "name": "python"
    }
  },
  "cells": [
    {
      "cell_type": "markdown",
      "source": [
        "---\n",
        "\n",
        "### **Type Conversion & User Input**\n",
        "\n",
        "---\n",
        "\n",
        "**I. Introduction to Type Conversion**\n",
        "\n",
        "- **Concept of Data Types and Compatibility:**\n",
        "    - Sometimes, different data types can't directly interact or work together.\n",
        "    - For instance, you can't directly add a text representation of a number (string) to an actual number (integer or float).\n",
        "\n",
        "- **Implicit vs. Explicit Type Conversion:**\n",
        "    - **Implicit:** Done automatically by the compiler/interpreter.\n",
        "    - **Explicit:** Done intentionally by the programmer.\n",
        "\n",
        "---\n",
        "\n",
        "**II. Implicit Type Conversion**\n",
        "\n",
        "- **Definition:**\n",
        "    - When the Python interpreter automatically changes one data type to another without the programmer's intervention.\n",
        "\n",
        "- **Examples:**\n",
        "    - Combining an integer with a float results in a float.\n",
        "    ```python\n",
        "    result = 3 + 4.5  # result is 7.5, a float\n",
        "    ```\n",
        "    - Combining an integer with a string can lead to errors.\n",
        "    \n",
        "- **Potential Pitfalls:**\n",
        "    - **Loss of Data:** Converting from float to integer discards the decimal part.\n",
        "    - **Unexpected Results:** Implicit conversion might not always yield the expected outcome.\n",
        "    - **Type Errors:** Some implicit conversions aren't allowed and can cause errors.\n",
        "\n",
        "---\n",
        "\n",
        "**III. Explicit Type Conversion**\n",
        "\n",
        "- **Definition:**\n",
        "    - When the programmer intentionally converts one data type to another using built-in functions.\n",
        "\n",
        "- **Conversion Functions:**\n",
        "    - `int()`: Converts a value to an integer.\n",
        "    - `float()`: Converts a value to a floating-point number.\n",
        "    - `str()`: Converts a value to a string.\n",
        "\n",
        "- **Demonstrations:**\n",
        "    - Convert a float to an integer:\n",
        "    ```python\n",
        "    integer_value = int(7.8)  # Result is 7\n",
        "    ```\n",
        "    - Convert an integer to a string:\n",
        "    ```python\n",
        "    string_value = str(25)  # Result is \"25\"\n",
        "    ```\n",
        "\n",
        "---\n",
        "\n",
        "**IV. Input from Users using the `input()` function**\n",
        "\n",
        "- **Introduction to `input()`:**\n",
        "    - A built-in Python function to take user input from the console.\n",
        "    \n",
        "- **Characteristics of `input()`:**\n",
        "    - The data obtained using `input()` is always a string. To use it as other data types, you need to convert it explicitly.\n",
        "\n",
        "---\n"
      ],
      "metadata": {
        "id": "CUpoFbofG8dq"
      }
    },
    {
      "cell_type": "markdown",
      "source": [
        "**1. Word Repetition Game**\n",
        "- Ask the user for a word and a number.\n",
        "- Convert the number to an integer and repeat the word that many times.\n",
        "- Example:\n",
        "    - Input: Word: \"Hello\", Number: \"3\"\n",
        "    - Output: \"HelloHelloHello\"\n",
        "\n",
        "---"
      ],
      "metadata": {
        "id": "wxkjUHtsH2hr"
      }
    },
    {
      "cell_type": "code",
      "source": [
        "#Ex1\n",
        "word = input(\"what kind of word do you type?\")\n",
        "number = input (\"How many times do you want to display?\")\n",
        "\n",
        "number = int(number)\n",
        "\n",
        "while number > 0:\n",
        "  print(word)\n",
        "  number = number - 1\n",
        "\n",
        "\n"
      ],
      "metadata": {
        "id": "hUtSMYsVH-eY",
        "colab": {
          "base_uri": "https://localhost:8080/"
        },
        "outputId": "f596e9d2-5269-49bb-ecf8-a9e3c985c436"
      },
      "execution_count": null,
      "outputs": [
        {
          "output_type": "stream",
          "name": "stdout",
          "text": [
            "what kind of word do you type?hello\n",
            "How many times do you want to display?10\n",
            "hello\n",
            "hello\n",
            "hello\n",
            "hello\n",
            "hello\n",
            "hello\n",
            "hello\n",
            "hello\n",
            "hello\n",
            "hello\n"
          ]
        }
      ]
    },
    {
      "cell_type": "markdown",
      "source": [
        "**2. Money Calculator**\n",
        "- Prompt the user for the number of coins they have (like pennies, nickels, dimes, and quarters).\n",
        "- Convert the input to integers.\n",
        "- Calculate the total amount in dollars and cents.\n",
        "\n",
        "---"
      ],
      "metadata": {
        "id": "eUlwvePkH_-D"
      }
    },
    {
      "cell_type": "code",
      "source": [
        "#Ex2\n",
        "pennies = input(\"How many pennies coin do you have?>>>\")\n",
        "nickels = input(\"How many nickls coin do you have?>>>\")\n",
        "dimes = input(\"How many dimes coin do you have?>>>\")\n",
        "quarters = input(\"How many quarters coin do you have?>>>\")\n",
        "\n",
        "pennies = int(pennies)\n",
        "nickels = int(nickels)\n",
        "dimes = int(dimes)\n",
        "quarters = int(quarters)\n",
        "\n",
        "sum = pennies*1 + nickels*5 + dimes*10 + quarters*25\n",
        "\n",
        "dollars = sum // 100\n",
        "cents = sum % 100\n",
        "\n",
        "print (\"In total, you have\", dollars, \"dolars, and\", cents, \"cents.\")\n"
      ],
      "metadata": {
        "id": "A43ujndhIGo_",
        "colab": {
          "base_uri": "https://localhost:8080/"
        },
        "outputId": "fcf1e5c5-f95d-44bc-efb0-d06a3416aed5"
      },
      "execution_count": null,
      "outputs": [
        {
          "output_type": "stream",
          "name": "stdout",
          "text": [
            "How many pennies coin do you have?>>>1\n",
            "How many nickls coin do you have?>>>1\n",
            "How many dimes coin do you have?>>>1\n",
            "How many quarters coin do you have?>>>1\n",
            "In total, you have 0 dolars, and 41 cents.\n"
          ]
        }
      ]
    },
    {
      "cell_type": "markdown",
      "source": [
        "**3. Movie Time**\n",
        "- Ask the user how long a movie is in minutes (e.g., \"120\").\n",
        "- Convert this to hours and minutes and display it.\n",
        "- Example:\n",
        "    - Input: \"140\"\n",
        "    - Output: \"The movie is 2 hours and 20 minutes long.\"\n",
        "\n",
        "---"
      ],
      "metadata": {
        "id": "1cSXQp50ILlb"
      }
    },
    {
      "cell_type": "code",
      "source": [
        "#Ex3\n",
        "minutes = input(\"How long a movie is in minutes?>>>\")\n",
        "\n",
        "minutes = int(minutes)\n",
        "\n",
        "hours = minutes // 60\n",
        "minutes = minutes % 60\n",
        "\n",
        "print(\"The movie is\", hours, \"hours and\", minutes, \"munutes long.\")"
      ],
      "metadata": {
        "id": "6GCnZ9g7IQnZ",
        "colab": {
          "base_uri": "https://localhost:8080/"
        },
        "outputId": "520aaf80-e954-4a01-f80f-5fb9dd81624f"
      },
      "execution_count": null,
      "outputs": [
        {
          "output_type": "stream",
          "name": "stdout",
          "text": [
            "How long a movie is in minutes?>>>140\n",
            "The movie is 2 hours and 20 munutes long.\n"
          ]
        }
      ]
    },
    {
      "cell_type": "markdown",
      "source": [
        "**4. Age in Days**\n",
        "- Have the user input their age in years.\n",
        "- Convert the age to days (ignoring leap years) and display the result.\n",
        "- Example:\n",
        "    - Input: \"25\"\n",
        "    - Output: \"You are approximately 9125 days old.\"\n",
        "\n",
        "---\n"
      ],
      "metadata": {
        "id": "DJD0fXVUISLH"
      }
    },
    {
      "cell_type": "code",
      "source": [
        "#Ex4\n",
        "age = input(\"How old are you?>>>\")\n",
        "\n",
        "age = int(age)\n",
        "\n",
        "days = age * 365\n",
        "\n",
        "print(\"You are approximately\", days, \"days old.\")"
      ],
      "metadata": {
        "id": "L3TeR-x-IXj_",
        "colab": {
          "base_uri": "https://localhost:8080/"
        },
        "outputId": "59006fd1-fb38-4cbd-bcf0-32cec78a8236"
      },
      "execution_count": null,
      "outputs": [
        {
          "output_type": "stream",
          "name": "stdout",
          "text": [
            "How old are you?>>>25\n",
            "You are approximately 9125 days old.\n"
          ]
        }
      ]
    },
    {
      "cell_type": "markdown",
      "source": [
        "**5. String Calculator**\n",
        "- Ask the user for two numbers but as strings (e.g., \"12\" and \"15\").\n",
        "- Convert these strings to integers and perform basic arithmetic operations on them (addition, subtraction, multiplication).\n",
        "\n",
        "---"
      ],
      "metadata": {
        "id": "sEcfkwlfIZJv"
      }
    },
    {
      "cell_type": "code",
      "source": [
        "#Ex5\n",
        "\n",
        "print(\"This is athmetic operator with two numbers. \\n\", \"Type two numbers.\")\n",
        "n1 = input (\"what is first number?>>>\")\n",
        "n2 = input (\"What is second numver?>>>\")\n",
        "\n",
        "n1 = int(n1)\n",
        "n2 = int(n2)\n",
        "\n",
        "print(\"\\n\")\n",
        "print( n1, \"+\", n2, \"=\", n1+n2)\n",
        "print(n1, \"-\", n2, \"=\", n1-n2)\n",
        "print(n1, \"×\", n2, \"=\", n1*n2)\n",
        "print(n1, \"÷\", n2, \"=\", n1/n2)"
      ],
      "metadata": {
        "id": "kjKUS4-gIdrC",
        "colab": {
          "base_uri": "https://localhost:8080/"
        },
        "outputId": "6f752bcc-a2a5-45d4-cd83-ce94f3773104"
      },
      "execution_count": 4,
      "outputs": [
        {
          "output_type": "stream",
          "name": "stdout",
          "text": [
            "This is athmetic operator with two numbers. \n",
            " Type two numbers.\n",
            "what is first number?>>>3\n",
            "What is second numver?>>>2\n",
            "\n",
            "\n",
            "3 + 2 = 5\n",
            "3 - 2 = 1\n",
            "3 × 2 = 6\n",
            "3 ÷ 2 = 1.5\n"
          ]
        }
      ]
    },
    {
      "cell_type": "markdown",
      "source": [
        "**6. Weight Converter**\n",
        "- Prompt the user for their weight in pounds.\n",
        "- Convert the weight to kilograms (using the conversion 1 pound = 0.453592 kilograms) and display the result.\n",
        "\n",
        "---"
      ],
      "metadata": {
        "id": "XU-uz7_gIfar"
      }
    },
    {
      "cell_type": "code",
      "source": [
        "#Ex6\n",
        "\n",
        "print(\"This is pound to kilograms converter.\")\n",
        "pound = input (\"What pound?>>>\")\n",
        "pound = int(pound)\n",
        "\n",
        "kilograms = pound*0.453592\n",
        "\n",
        "print()\n",
        "print(pound, \"pound =\", kilograms, \"kirograms\")"
      ],
      "metadata": {
        "id": "uM2885UFIi4-",
        "colab": {
          "base_uri": "https://localhost:8080/"
        },
        "outputId": "cb1a2cc5-7705-4583-cb93-46b36cb050d4"
      },
      "execution_count": 7,
      "outputs": [
        {
          "output_type": "stream",
          "name": "stdout",
          "text": [
            "This is pound to kilograms converter.\n",
            "What pound?>>>1\n",
            "\n",
            "1 pound = 0.453592 kirograms\n"
          ]
        }
      ]
    },
    {
      "cell_type": "markdown",
      "source": [
        "**7. Temperature Alert**\n",
        "- Ask the user for the temperature in Fahrenheit.\n",
        "- Convert it to Celsius.\n",
        "- If the temperature in Celsius is below 0, print an alert that it's freezing!\n",
        "\n",
        "---"
      ],
      "metadata": {
        "id": "Vqf3KRegIkwG"
      }
    },
    {
      "cell_type": "code",
      "source": [
        "#Ex7\n",
        "print(\"This is Fahrenheit to Celsius converter. \")\n",
        "Fahrenheit = input (\"What is now temp. in fahrenheit?>>>\")\n",
        "Fahrenheit = int(Fahrenheit)\n",
        "\n",
        "Celsius = Fahrenheit-32\n",
        "Celsius = Celsius*5/9\n",
        "\n",
        "print(\"Now temp. in Celsius is\", Celsius, \"℃\")\n",
        "\n",
        "if Celsius < 0:\n",
        "  print(\" ＿人人人人人人人人人＿\\n\", \"＞　!!!FREEZING!!!　＜\\n\", \"￣Y^Y^Y^Y^Y^Y^Y^Y^Y^￣\")\n"
      ],
      "metadata": {
        "id": "Bvn01u27InZD",
        "colab": {
          "base_uri": "https://localhost:8080/"
        },
        "outputId": "cdc7f617-8047-4ce2-f3fe-aa916350f775"
      },
      "execution_count": 11,
      "outputs": [
        {
          "output_type": "stream",
          "name": "stdout",
          "text": [
            "This is Fahrenheit to Celsius converter. \n",
            "What is now temp. in fahrenheit?>>>30\n",
            "Now temp. in Celsius is -1.1111111111111112 ℃\n",
            " ＿人人人人人人人人人＿\n",
            " ＞　!!!FREEZING!!!　＜\n",
            " ￣Y^Y^Y^Y^Y^Y^Y^Y^Y^￣\n"
          ]
        }
      ]
    },
    {
      "cell_type": "markdown",
      "source": [
        "**8. User Feedback Rating**\n",
        "- Ask the user to rate a product on a scale of 1-10, but they should input it as a word (e.g., \"seven\").\n",
        "- Convert the word to its corresponding number. (This requires a bit more logic, using a dictionary or if-else statements.)\n",
        "- Display a message based on the number (e.g., for ratings 8-10, display \"Thank you! We're glad you loved it!\").\n",
        "\n",
        "---"
      ],
      "metadata": {
        "id": "HtgxB-B0IpTW"
      }
    },
    {
      "cell_type": "code",
      "source": [
        "#Ex8\n",
        "\n",
        "print(\"Thank you for opening the product rating page. \\nPlease fill in this for one to ten\")\n",
        "rate = input (\"Type here \\\"one\\\" to \\\"ten\\\" to rate>>>\")\n",
        "rate_l = rate.lower()\n",
        "\n",
        "if rate_l == \"one\":\n",
        "  rate_n = 1\n",
        "\n",
        "elif rate_l == \"two\":\n",
        "  rate_n = 2\n",
        "\n",
        "elif rate_l == \"three\":\n",
        "  rate_n = 3\n",
        "\n",
        "elif rate_l == \"four\":\n",
        "  rate_n = 4\n",
        "\n",
        "elif rate_l == \"five\":\n",
        "  rate_n = 5\n",
        "\n",
        "elif rate_l == \"six\":\n",
        "  rate_n = 6\n",
        "\n",
        "elif rate_l == \"seven\":\n",
        "  rate_n = 7\n",
        "\n",
        "elif rate_l == \"eight\":\n",
        "  rate_n = 8\n",
        "  print(\"Thank you! We're glad you loved it!\")\n",
        "\n",
        "elif rate_l == \"nine\":\n",
        "  rate_n = 9\n",
        "  print(\"Thank you! We're glad you loved it!\")\n",
        "\n",
        "elif rate_l == \"ten\":\n",
        "  rate_n = 10\n",
        "  print(\"Thank you! We're glad you loved it!\")\n",
        "\n",
        "else:\n",
        "  print (\"An unexpected error has occurred. Please try again.\")\n",
        "\n",
        "# Thank you for opening the product rating page.\n",
        "# Please fill in this for one to ten\n",
        "# Type here \"one\" to \"ten\" to rate>>>a\n",
        "# An unexpected error has occurred. Please try again.\n",
        "\n",
        "#Congrats on maxing it this far! You rock!!!"
      ],
      "metadata": {
        "id": "_THFynUpIqTw",
        "colab": {
          "base_uri": "https://localhost:8080/"
        },
        "outputId": "81832d99-17cd-47df-d067-a6200ad7ecd2"
      },
      "execution_count": 17,
      "outputs": [
        {
          "output_type": "stream",
          "name": "stdout",
          "text": [
            "Thank you for opening the product rating page. \n",
            "Please fill in this for one to ten\n",
            "Type here \"one\" to \"ten\" to rate>>>eight\n",
            "Thank you! We're glad you loved it!\n"
          ]
        }
      ]
    },
    {
      "cell_type": "markdown",
      "source": [
        "In Python, both the comma (`,`) and the plus (`+`) sign can be used with the `print` function, but they serve different purposes and have different behaviors. Here are the main differences:\n",
        "\n",
        "1. **Type Compatibility**:\n",
        "   - **Comma (`,`)**: You can use the comma to concatenate items of different types without explicitly converting them. The `print` function will internally convert the arguments to strings.\n",
        "   - **Plus (`+`)**: When using the plus sign, the items being concatenated must be of the same type. If you're trying to concatenate a string with a number, for instance, you'll need to explicitly convert the number to a string using `str()`.\n",
        "\n",
        "2. **Output Spacing**:\n",
        "   - **Comma (`,`)**: When using a comma, the `print` function will insert a space between the items.\n",
        "   - **Plus (`+`)**: The plus sign will concatenate the items directly without any space in between.\n",
        "\n",
        "3. **Flexibility**:\n",
        "   - **Comma (`,`)**: You can print multiple items of different types easily, and also include additional parameters like `end` and `sep`.\n",
        "   - **Plus (`+`)**: It's primarily for string concatenation, and you'd have to manage type conversions yourself.\n",
        "\n",
        "Here's a demonstration of the differences:\n",
        "\n",
        "```python\n",
        "x = 5\n",
        "y = \"Hello\"\n",
        "\n",
        "# Using comma\n",
        "print(y, x)\n",
        "\n",
        "# Using plus (requires explicit type conversion for non-string types)\n",
        "print(y + \" \" + str(x))\n",
        "```\n",
        "\n",
        "The output for the above code would be:\n",
        "\n",
        "```\n",
        "Hello 5\n",
        "Hello 5\n",
        "```\n",
        "\n",
        "Let's run a demonstration to see the differences in action.\n",
        "\n",
        "As demonstrated:\n",
        "\n",
        "Using the comma (`,`):\n",
        "```\n",
        "Output: Hello 5\n",
        "```\n",
        "\n",
        "Using the plus (`+`):\n",
        "```\n",
        "Output: Hello 5\n",
        "```\n",
        "\n",
        "In both cases, the outputs are the same in this example. However, the distinction comes in how they handle different types and spacing, as previously explained. Using the comma is generally more forgiving and flexible for printing multiple items, while the plus sign requires more care regarding type compatibility and formatting."
      ],
      "metadata": {
        "id": "CPVKyuY2KKjd"
      }
    }
  ]
}